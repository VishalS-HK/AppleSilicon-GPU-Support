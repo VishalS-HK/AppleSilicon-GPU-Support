{
 "cells": [
  {
   "cell_type": "code",
   "execution_count": 15,
   "metadata": {},
   "outputs": [
    {
     "name": "stdout",
     "output_type": "stream",
     "text": [
      "Python Platform : macOS-13.6-arm64-arm-64bit\n",
      "TensorFlow Version : 2.13.0\n",
      "Keras Version : 2.13.1\n",
      "\n",
      "Python version : 3.10.12 | packaged by conda-forge | (main, Jun 23 2023, 22:41:52) [Clang 15.0.7 ]\n",
      "Pandas version : 2.0.3\n",
      "Scikit-Learn version : 1.3.0\n",
      "GPU is AVAILABLE🔥🔥, Let's goooooooooo\n"
     ]
    }
   ],
   "source": [
    "import sys\n",
    "import pandas as pd\n",
    "import sklearn as sk\n",
    "import keras\n",
    "import tensorflow as tf\n",
    "import platform\n",
    "\n",
    "print(f\"Python Platform : {platform.platform()}\")\n",
    "print(f\"TensorFlow Version : {tf.__version__}\")\n",
    "print(f\"Keras Version : {keras.__version__}\")\n",
    "print()\n",
    "print(f\"Python version : {sys.version}\")\n",
    "print(f\"Pandas version : {pd.__version__}\")\n",
    "print(f\"Scikit-Learn version : {sk.__version__}\")\n",
    "gpu = len(tf.config.list_physical_devices('GPU')) > 0\n",
    "print(\"GPU is\", \"AVAILABLE🔥🔥, Let's goooooooooo\" if gpu else \"NOT AVAILABLE💀💀\")"
   ]
  },
  {
   "cell_type": "code",
   "execution_count": 16,
   "metadata": {},
   "outputs": [
    {
     "name": "stdout",
     "output_type": "stream",
     "text": [
      "PyTorch version: 2.0.1\n",
      "Is Metal Performance Shader built? True\n",
      "Is Metal Performance Shader available? True\n",
      "Using device: MPS\n"
     ]
    }
   ],
   "source": [
    "import torch\n",
    "\n",
    "print(f\"PyTorch version: {torch.__version__}\")\n",
    "\n",
    "# Check PyTorch has access to MPS (Metal Performance Shade), Apple's GPU architecture\n",
    "print(f\"Is Metal Performance Shader built? {torch.backends.mps.is_built()}\")\n",
    "print(f\"Is Metal Performance Shader available? {torch.backends.mps.is_available()}\")\n",
    "\n",
    "# Set the device      \n",
    "device = \"MPS\" if torch.backends.mps.is_available() else \"CPU\"\n",
    "print(f\"Using device: {device}\")"
   ]
  }
 ],
 "metadata": {
  "kernelspec": {
   "display_name": "tensorflow",
   "language": "python",
   "name": "python3"
  },
  "language_info": {
   "codemirror_mode": {
    "name": "ipython",
    "version": 3
   },
   "file_extension": ".py",
   "mimetype": "text/x-python",
   "name": "python",
   "nbconvert_exporter": "python",
   "pygments_lexer": "ipython3",
   "version": "3.10.12"
  },
  "orig_nbformat": 4
 },
 "nbformat": 4,
 "nbformat_minor": 2
}
